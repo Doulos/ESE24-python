{
 "cells": [
  {
   "cell_type": "markdown",
   "id": "b2620083-5bac-42e6-bf94-6872f1aaa1b8",
   "metadata": {
    "editable": true,
    "slideshow": {
     "slide_type": ""
    },
    "tags": []
   },
   "source": [
    "# Mit Python Fliegen\n",
    "\n",
    "Copyright 2024 by Doulos\n",
    "\n",
    "Licensed under the Apache License, Version 2.0 (the \"License\"); you may not use this file except in compliance with the License. You may obtain a copy of the License at:\n",
    "http://www.apache.org/licenses/LICENSE-2.0\n",
    "\n",
    "Unless required by applicable law or agreed to in writing, software distributed under the License is distributed on an \"AS IS\" BASIS, WITHOUT WARRANTIES OR CONDITIONS OF ANY KIND, either express or implied. See the License for the specific language governing permissions and limitations under the License."
   ]
  },
  {
   "cell_type": "code",
   "execution_count": null,
   "id": "6c0b709d-597b-4bbe-a1b7-7b8c4258161d",
   "metadata": {},
   "outputs": [],
   "source": [
    "import antigravity"
   ]
  },
  {
   "cell_type": "markdown",
   "id": "5d4280c3-bd52-4a1d-9100-593ee3c2d71b",
   "metadata": {},
   "source": [
    "<br/>\n",
    "<div style=\"background-color:  #FFD8B2 ; font-size: 24px; \">\n",
    "1. Python Basic\n",
    "</div>"
   ]
  },
  {
   "cell_type": "markdown",
   "id": "986636d9-466f-41e1-89e9-3b73f82babb3",
   "metadata": {},
   "source": [
    "### Q01*-  What's the type of 1+2j ?"
   ]
  },
  {
   "cell_type": "code",
   "execution_count": null,
   "id": "85ebd160-e4dc-451c-bb3c-d8b0aaf8cc41",
   "metadata": {},
   "outputs": [],
   "source": [
    "print( type(1+2j) )"
   ]
  },
  {
   "cell_type": "markdown",
   "id": "ad7fb81d-f324-4b97-9fff-c3c684f33552",
   "metadata": {},
   "source": [
    "### Q02*- What's the result of 5/2 ?"
   ]
  },
  {
   "cell_type": "code",
   "execution_count": null,
   "id": "94f0b17f-2761-413a-a477-9dc014d8f27d",
   "metadata": {},
   "outputs": [],
   "source": [
    "print(\"5/2 = \", 5/2)"
   ]
  },
  {
   "cell_type": "code",
   "execution_count": null,
   "id": "58133ccd-03cc-47f5-a8b2-a339d3b959fc",
   "metadata": {},
   "outputs": [],
   "source": [
    "print(\"5//2 =\", 5//2)"
   ]
  },
  {
   "cell_type": "markdown",
   "id": "be18ba04-d492-4bf9-b51e-57ff297c90ab",
   "metadata": {},
   "source": [
    "### Q03*- When does an integer overflow?\n",
    "Run the program below for different values of $n$ and discover when we get an integer overflow."
   ]
  },
  {
   "cell_type": "code",
   "execution_count": null,
   "id": "623e826e-b88a-4f40-9354-abb32aa035a5",
   "metadata": {},
   "outputs": [],
   "source": [
    "n = 5\n",
    "x = 2\n",
    "for i in range(n):\n",
    "    print(i,\":\",x)\n",
    "    x=x**2"
   ]
  },
  {
   "cell_type": "markdown",
   "id": "d61b4afa-fdf1-4252-bf3d-ac0e8d88dcad",
   "metadata": {},
   "source": [
    "<br/>\n",
    "<div style=\"background-color:  #FFD8B2 ; font-size: 24px; \">\n",
    "2. Class Recap\n",
    "</div>"
   ]
  },
  {
   "cell_type": "markdown",
   "id": "88981652-c028-4ad6-9359-08d308c84f61",
   "metadata": {},
   "source": [
    "### Q04*- Fix the error"
   ]
  },
  {
   "cell_type": "code",
   "execution_count": 2,
   "id": "2face2b7-d581-4914-8ed2-194f437ef470",
   "metadata": {},
   "outputs": [
    {
     "ename": "TypeError",
     "evalue": "Point.setxy() takes 2 positional arguments but 3 were given",
     "output_type": "error",
     "traceback": [
      "\u001b[1;31m---------------------------------------------------------------------------\u001b[0m",
      "\u001b[1;31mTypeError\u001b[0m                                 Traceback (most recent call last)",
      "Cell \u001b[1;32mIn[2], line 10\u001b[0m\n\u001b[0;32m      7\u001b[0m         \u001b[38;5;28mprint\u001b[39m( (\u001b[38;5;28mself\u001b[39m\u001b[38;5;241m.\u001b[39mx, \u001b[38;5;28mself\u001b[39m\u001b[38;5;241m.\u001b[39my) ) \n\u001b[0;32m      9\u001b[0m p1 \u001b[38;5;241m=\u001b[39m Point()\n\u001b[1;32m---> 10\u001b[0m \u001b[43mp1\u001b[49m\u001b[38;5;241;43m.\u001b[39;49m\u001b[43msetxy\u001b[49m\u001b[43m(\u001b[49m\u001b[38;5;241;43m1\u001b[39;49m\u001b[43m,\u001b[49m\u001b[38;5;241;43m2\u001b[39;49m\u001b[43m)\u001b[49m\n\u001b[0;32m     11\u001b[0m p1\u001b[38;5;241m.\u001b[39mdisplay()\n",
      "\u001b[1;31mTypeError\u001b[0m: Point.setxy() takes 2 positional arguments but 3 were given"
     ]
    }
   ],
   "source": [
    "class Point:\n",
    "    def setxy(x, y):\n",
    "        self.x = x\n",
    "        self.y = y\n",
    "        \n",
    "    def display():\n",
    "        print( (self.x, self.y) ) \n",
    "\n",
    "p1 = Point()\n",
    "p1.setxy(1,2)\n",
    "p1.display()"
   ]
  },
  {
   "cell_type": "markdown",
   "id": "cd0b0701-ffce-411b-914f-9baf007c12c5",
   "metadata": {},
   "source": [
    "### Q05**- What happen if we run the code below?\n",
    "- Do you have any explanation?"
   ]
  },
  {
   "cell_type": "code",
   "execution_count": null,
   "id": "45bed6e3-1935-4922-84f6-1d8f5be16e06",
   "metadata": {},
   "outputs": [],
   "source": [
    "class Coord:\n",
    "    \n",
    "    def setxy(self, x, y):\n",
    "        self.x = x\n",
    "        self.y = y\n",
    "\n",
    "    def getxy(self):\n",
    "        return (self.x, self.y)"
   ]
  },
  {
   "cell_type": "code",
   "execution_count": null,
   "id": "e7d674e0-0828-4a3f-9214-74e371046a80",
   "metadata": {},
   "outputs": [],
   "source": [
    "c3 = Coord()\n",
    "print(\"c3: \", c3.getxy() )"
   ]
  },
  {
   "cell_type": "markdown",
   "id": "000ba3f8-98bd-4074-b328-0769a5e17a93",
   "metadata": {},
   "source": [
    "### Q06*- What happen if you run the code below?"
   ]
  },
  {
   "cell_type": "code",
   "execution_count": null,
   "id": "d534358e-dc77-4b85-845d-eef54ce46219",
   "metadata": {},
   "outputs": [],
   "source": [
    "class Coord:\n",
    "    def __init__(self, x, y):\n",
    "        self.setxy(x,y)\n",
    "\n",
    "    def setxy(self, x, y):\n",
    "        self.x = x \n",
    "        self.y = y\n",
    "\n",
    "    def getxy(self):\n",
    "        return (self.x, self.y)\n",
    "\n",
    "    def display(self):\n",
    "        print(\"(x,y) = \", self.getxy())"
   ]
  },
  {
   "cell_type": "code",
   "execution_count": null,
   "id": "3c8c584f-4190-4eef-bd26-0d01e0528af5",
   "metadata": {},
   "outputs": [],
   "source": [
    "c1 = Coord(1,1)\n",
    "c1.display()\n",
    "Coord.display(c1)\n",
    "type(c1).display(c1)"
   ]
  },
  {
   "cell_type": "markdown",
   "id": "83e65423-bc91-471a-81db-d5715cc6c9eb",
   "metadata": {},
   "source": [
    "### Q07***- Any idea why the following code does not work?\n",
    "- Hint: print the value of `A.count` and `a1.count` between line 10 and 11"
   ]
  },
  {
   "cell_type": "code",
   "execution_count": null,
   "id": "748cdd89-65ee-4317-8eb7-8c4fb9a25b3f",
   "metadata": {},
   "outputs": [],
   "source": [
    "class A:\n",
    "    count = 0\n",
    "\n",
    "    def __init__(self, inst_name):\n",
    "        print(\"init\",inst_name)\n",
    "        print(f\"  was: {self.count=}\")\n",
    "        self.count+=1\n",
    "        print(f\"  now: {self.count=}\")\n",
    "\n",
    "a1 = A(\"a1\")\n",
    "a2 = A(\"a2\")"
   ]
  },
  {
   "cell_type": "markdown",
   "id": "aad6f180-943c-4c1a-b47c-874bb6166bbf",
   "metadata": {},
   "source": [
    "### Q08**- Run the program below.\n",
    "- Can you explain it?\n",
    "- How is it achieved in C++?"
   ]
  },
  {
   "cell_type": "code",
   "execution_count": null,
   "id": "60d9d2cc-01cb-4f05-a83c-1708e90127bd",
   "metadata": {},
   "outputs": [],
   "source": [
    "class Animal:\n",
    "    def make_sound(self):\n",
    "        self.sound()\n",
    "\n",
    "    def sound(self):\n",
    "        print(\"<...>\")\n",
    "\n",
    "class Dog(Animal):\n",
    "    def sound(self):\n",
    "        print(\"Woaf!\")\n",
    "\n",
    "class Cat(Animal):\n",
    "    def sound(self):\n",
    "        print(\"Meow!\")\n",
    "\n",
    "felix = Cat()\n",
    "rex = Dog()\n",
    "rex.make_sound()\n",
    "felix.make_sound()        "
   ]
  },
  {
   "cell_type": "markdown",
   "id": "5f0d1b54-30c1-4394-805a-cc30d3e0c92d",
   "metadata": {},
   "source": [
    "### Q09**- Run the program below\n",
    "- What's the value of r1, r2, r3, r4? Is it expected?\n",
    "- How would you implement this function in C++?"
   ]
  },
  {
   "cell_type": "code",
   "execution_count": null,
   "id": "02127945-9253-4ea7-b263-ea5888b993e1",
   "metadata": {},
   "outputs": [],
   "source": [
    "def add(a,b):\n",
    "    return a+b\n",
    "\n",
    "r1 = add(1,2)\n",
    "r2 = add(1.0, 2.0)\n",
    "r3 = add(\"hello\", \" world!\")\n",
    "r4 = add([\"hoooo\"], [42])\n",
    "print(f\"{r1=}  {r2=}  {r3=}  {r4=}\")"
   ]
  },
  {
   "cell_type": "markdown",
   "id": "d2ed96ac-e5b6-405e-a483-f63769f3e61c",
   "metadata": {},
   "source": [
    "<br/>\n",
    "<div style=\"background-color:  #FFD8B2 ; font-size: 24px; \">\n",
    "3. Magic Methods\n",
    "</div>"
   ]
  },
  {
   "cell_type": "markdown",
   "id": "b8271553-c6e2-41ab-92a9-a88f00ad6daa",
   "metadata": {},
   "source": [
    "### Q10*- Run the program below.\n",
    "- Have you seen some of the name before?"
   ]
  },
  {
   "cell_type": "code",
   "execution_count": null,
   "id": "ea69b87a-2673-4312-a36e-232a711fb6d3",
   "metadata": {},
   "outputs": [],
   "source": [
    "s = 'ESE 2024'\n",
    "dir(s)"
   ]
  },
  {
   "cell_type": "markdown",
   "id": "0f77e7c7-db3c-4c49-a740-21618748e6bb",
   "metadata": {},
   "source": [
    "### Q11*- Run the program below.\n",
    "- Any observations?\n",
    "- What's the other (or more natural way) to get s3 and sz?"
   ]
  },
  {
   "cell_type": "code",
   "execution_count": null,
   "id": "92dd4e48-5192-4291-8d4c-4caa63cf2be6",
   "metadata": {},
   "outputs": [],
   "source": [
    "s1 = \"Mit Python fliegen \"\n",
    "s2 = \"beim ESE Kongress\"\n",
    "s3 = s1.__add__(s2)\n",
    "print(f\"{s3 = }\")\n",
    "s4 = \"abcdef\"\n",
    "sz = s4.__len__()\n",
    "print(f\"{sz = }\") "
   ]
  },
  {
   "cell_type": "markdown",
   "id": "06ab9de9-f717-41b5-80c3-f46d3e5fe894",
   "metadata": {},
   "source": [
    "### Q12**- Using some magics, make the output nicier:\n",
    "Expected output: \\\n",
    "`(1,-4)` \\\n",
    "`Coord(1,-4)`"
   ]
  },
  {
   "cell_type": "code",
   "execution_count": null,
   "id": "8dc1a698-c2d2-4248-9b9d-3459bb5d5514",
   "metadata": {},
   "outputs": [],
   "source": [
    "class Coord:\n",
    "    def __init__(self, x, y):\n",
    "        self.setxy(x,y)\n",
    "\n",
    "    def setxy(self, x, y):\n",
    "        self.x = x \n",
    "        self.y = y\n",
    "\n",
    "    def getxy(self):\n",
    "        return (self.x, self.y)\n",
    "\n",
    "# do not modify the lines below\n",
    "c1 = Coord(-1,4)\n",
    "print(c1)\n",
    "print(f\"{c1 = }\")"
   ]
  },
  {
   "cell_type": "markdown",
   "id": "545629dc-5513-46e1-b097-1592c3092f07",
   "metadata": {},
   "source": [
    "<br/>\n",
    "<div style=\"background-color:  #F0E68C ; font-size: 24px; text-align: center;\">\n",
    "Coffee Break ☕\n",
    "</div>"
   ]
  },
  {
   "cell_type": "code",
   "execution_count": null,
   "id": "80aeea02-3490-4e0f-b082-ed7e000fc03b",
   "metadata": {},
   "outputs": [],
   "source": [
    "from time import sleep\n",
    "from but_better import but_better  # 3rd party package\n",
    "\n",
    "coffee_break = but_better(\"jKCm4IpvF5E\")\n",
    "\n",
    "@coffee_break\n",
    "def pause(minutes):\n",
    "    sleep(minutes*60)\n",
    "\n",
    "pause(20)"
   ]
  },
  {
   "cell_type": "markdown",
   "id": "fd2f3acf-8461-4081-854e-1edcafa1198f",
   "metadata": {},
   "source": [
    "<br/>\n",
    "<div style=\"background-color:  #FFD8B2 ; font-size: 24px; \">\n",
    "4. Python Data Model\n",
    "</div>"
   ]
  },
  {
   "cell_type": "markdown",
   "id": "d116bed4-782a-4f54-8411-6e76b108f70e",
   "metadata": {},
   "source": [
    "### Q13***- Look at the program below\n",
    "- What do you expect? Run it and verify your claim!\n",
    "- Uncomment line 5. What Do you expect?\n",
    "- Run it. Any explanations?"
   ]
  },
  {
   "cell_type": "code",
   "execution_count": null,
   "id": "73c2311f-e554-4b8b-a291-8a44703e501f",
   "metadata": {},
   "outputs": [],
   "source": [
    "x = 0 \n",
    "\n",
    "def the_answer():\n",
    "    print(f\"{x = }\")\n",
    "    # x=42\n",
    "    \n",
    "the_answer()\n",
    "print(f\"now: {x=}\")"
   ]
  },
  {
   "cell_type": "markdown",
   "id": "4c8d269a-0956-4cd1-a158-2e8e79cabb35",
   "metadata": {},
   "source": [
    "### Q14**- Are arguments passed by value or by reference?\n",
    "- Use the program below to figure out.\n",
    "- Does the output make any sense to you?"
   ]
  },
  {
   "cell_type": "code",
   "execution_count": null,
   "id": "44f80bfc-0250-4bd7-99fa-39ada0d4d7ca",
   "metadata": {},
   "outputs": [],
   "source": [
    "def f(arg):\n",
    "   arg *= 2\n",
    "   return arg \n",
    "\n",
    "a = 2\n",
    "fa = f(a)\n",
    "print(f'a=2,   after f: {a=}')\n",
    "b = [2]\n",
    "fb = f(b)\n",
    "print(f'b=[2], after f: {b=}')"
   ]
  },
  {
   "cell_type": "markdown",
   "id": "cde07c2f-aebb-4d59-b769-77e2ce32d880",
   "metadata": {},
   "source": [
    "### Q15***- How many objects do you spot in the following code:"
   ]
  },
  {
   "cell_type": "code",
   "execution_count": null,
   "id": "91020d06-f289-4cf3-8b6f-4c10132cc6c2",
   "metadata": {},
   "outputs": [],
   "source": [
    "import math\n",
    "\n",
    "def area(r):\n",
    "    return math.pi*r**2\n",
    "\n",
    "class Void:\n",
    "    pass\n",
    "\n",
    "s = area(1.0)\n",
    "nothing = Void()"
   ]
  },
  {
   "cell_type": "markdown",
   "id": "2f908951-cf71-45d0-884b-2dd8f0accc0a",
   "metadata": {},
   "source": [
    "### Q16*- Run the following code.\n",
    "- Explain what you see"
   ]
  },
  {
   "cell_type": "code",
   "execution_count": null,
   "id": "45a08aef-aefe-4ad4-b5fd-7735235fd905",
   "metadata": {},
   "outputs": [],
   "source": [
    "def f(x):\n",
    "    return 2*x \n",
    "\n",
    "double = f\n",
    "print(f\"{double(4) = }\")"
   ]
  },
  {
   "cell_type": "markdown",
   "id": "ef1383a6-097e-44aa-9e43-537d16f30c5f",
   "metadata": {},
   "source": [
    "### Q17**- Challenge! \n",
    "- We want to run `mytest` with `new_A` (the new, API compatible, implementation of class `A`)\n",
    "- We should not modify the `mytest` function\n",
    "\n",
    "Hint: add a statement on line 14"
   ]
  },
  {
   "cell_type": "code",
   "execution_count": null,
   "id": "82a1f53b-399a-47bf-b8bb-cc1f3599a32f",
   "metadata": {},
   "outputs": [],
   "source": [
    "class A:\n",
    "    def __init__(self):\n",
    "        print(\"A\")\n",
    "\n",
    "# don't touch this mytest function\n",
    "def mytest():\n",
    "    print(\"run test\")\n",
    "    inst = A()\n",
    "\n",
    "class new_A:\n",
    "    def __init__(self):\n",
    "        print(\"super fancy A version 2.0\")\n",
    "\n",
    "# add a line here\n",
    "mytest()"
   ]
  },
  {
   "cell_type": "markdown",
   "id": "ac790f79-b3d9-4d5f-aece-06b8b8a131af",
   "metadata": {},
   "source": [
    "### Q18**- Investigate!\n",
    "- What's the type of `wf`?\n",
    "- call `wf`. What's printed out?\n",
    "- What happen if we write `f=welcomer(f)` and call `f`?"
   ]
  },
  {
   "cell_type": "code",
   "execution_count": null,
   "id": "3cfa69f5-8908-4b05-a261-46e16cfad358",
   "metadata": {},
   "outputs": [],
   "source": [
    "def welcomer(client):\n",
    "    def wrapper():\n",
    "        print('welcome!')\n",
    "        client()\n",
    "    return wrapper\n",
    "\n",
    "def f():\n",
    "    print('f is called')\n",
    "\n",
    "wf = welcomer(f)"
   ]
  },
  {
   "cell_type": "markdown",
   "id": "7bc9061c-395b-4a02-8c2f-50c480ff6027",
   "metadata": {},
   "source": [
    "<br/>\n",
    "<div style=\"background-color:  #FFD8B2 ; font-size: 24px; \">\n",
    "5. Iterators and Generators\n",
    "</div>"
   ]
  },
  {
   "cell_type": "markdown",
   "id": "fc2475a8-7d6b-4d43-8c88-0975f5ec90a6",
   "metadata": {},
   "source": [
    "### Q19**- Run the following code:\n",
    "- why is nothing printed out?\n",
    "- fix the code!"
   ]
  },
  {
   "cell_type": "code",
   "execution_count": 14,
   "id": "1916d79e-d72f-4d75-9e21-c25256f749d5",
   "metadata": {},
   "outputs": [],
   "source": [
    "L = [2,3,5,7,11,13,17,19]\n",
    "it = iter(L)\n",
    "t = tuple(it)\n",
    "for e in it:\n",
    "    print(e)"
   ]
  },
  {
   "cell_type": "markdown",
   "id": "12c3aa95-f58e-4048-8386-082967f6958c",
   "metadata": {},
   "source": [
    "### Q20**- Run the code below\n",
    "- What happen when you run the program?\n",
    "- what is the type of `g`?\n",
    "- call `next()` on g one, two, three times. Observations?"
   ]
  },
  {
   "cell_type": "code",
   "execution_count": 13,
   "id": "2b85d886-dbe1-4539-9e43-26fe80f9e1f1",
   "metadata": {},
   "outputs": [],
   "source": [
    "def my_generator():\n",
    "    for i in range(5):\n",
    "        yield i**2\n",
    "        print(f'resuming, {i=}...')\n",
    "\n",
    "g = my_generator()\n",
    "# v = next(g)\n",
    "# print(f'{v=}')"
   ]
  },
  {
   "cell_type": "markdown",
   "id": "39d2f56d-fdc1-4974-b59b-f9fb5edc528a",
   "metadata": {},
   "source": [
    "### Q21*- Make it pythonic!\n",
    "- Use List comprehension to make the code below more pythonic."
   ]
  },
  {
   "cell_type": "code",
   "execution_count": null,
   "id": "4d9b4a67-7f18-42c0-be9b-5ef31bc80357",
   "metadata": {},
   "outputs": [],
   "source": [
    "import random\n",
    "\n",
    "random.seed(42)\n",
    "L = []\n",
    "for i in range(10):\n",
    "    L.append(i*random.randrange(1,7))\n",
    "print(L)"
   ]
  },
  {
   "cell_type": "markdown",
   "id": "97dec525-7e14-4906-84bc-ae6d04c5afc3",
   "metadata": {},
   "source": [
    "### Q22**- Use Generator Expression\n",
    "- Same as previous exercise, but use a generator expression instead.\n",
    "- How do you print all values?"
   ]
  },
  {
   "cell_type": "code",
   "execution_count": null,
   "id": "4f47ca4f-e86b-403c-b2f2-6fd466ac1c41",
   "metadata": {},
   "outputs": [],
   "source": [
    "import random\n",
    "\n",
    "random.seed(42)\n",
    "G = ..."
   ]
  },
  {
   "cell_type": "markdown",
   "id": "b7cc62d4-f523-4804-ae79-2bf098d9df16",
   "metadata": {},
   "source": [
    "<br/>\n",
    "<div style=\"background-color:  #FFD8B2 ; font-size: 24px; \">\n",
    "6. Decorator\n",
    "</div>"
   ]
  },
  {
   "cell_type": "markdown",
   "id": "18148f83-7528-4184-8233-60822a46e295",
   "metadata": {},
   "source": [
    "###  Q23**- Investigate! \n",
    "- Run the program below. Is the output expected?\n",
    "- Add the following on line 7: `@welcomer` \n",
    "- Re-run the program. Any observations?"
   ]
  },
  {
   "cell_type": "code",
   "execution_count": null,
   "id": "ff46d2fd-3842-4e40-9330-59a8140f7ab5",
   "metadata": {},
   "outputs": [],
   "source": [
    "def welcomer(client):\n",
    "    def wrapper():\n",
    "        print('welcome!')\n",
    "        client()\n",
    "    return wrapper\n",
    "\n",
    "# change this line\n",
    "def f():\n",
    "    print('f is called')\n",
    "\n",
    "f()"
   ]
  },
  {
   "cell_type": "markdown",
   "id": "3fd34277-7a3f-4517-af33-cb5f145fc69f",
   "metadata": {},
   "source": [
    "### Q24***- Investigate\n",
    "- change the definition of `g()` on line 8 to take one argument `x`\n",
    "- change line 11 accordingly.\n",
    "- does our `welcomer` decorator works? Why not?\n",
    "- change the definition of `wrapper` on line 2 to fix `welcomer` for functions with one parameter.\n",
    "- any idea how to make `welcomer` to work for any function?"
   ]
  },
  {
   "cell_type": "code",
   "execution_count": null,
   "id": "026e879d-dc28-4777-b25c-40157ba3103f",
   "metadata": {},
   "outputs": [],
   "source": [
    "def welcomer(client):\n",
    "    def wrapper():\n",
    "        print('welcome!')\n",
    "        client()\n",
    "    return wrapper\n",
    "\n",
    "@welcomer\n",
    "def g():\n",
    "    print('g is called')\n",
    "\n",
    "g()"
   ]
  },
  {
   "cell_type": "markdown",
   "id": "42aabb82-5715-46da-a9cb-daadcaa40ba8",
   "metadata": {},
   "source": [
    "### Q25**- Investigate! \n",
    "- What are the type of `by_2` and `by_3` ?\n",
    "- What is printed out?\n",
    "- When we return the inner object, what else need to be retained for this to work?"
   ]
  },
  {
   "cell_type": "code",
   "execution_count": null,
   "id": "74d960a4-46ee-4357-a450-a6c45a473d01",
   "metadata": {},
   "outputs": [],
   "source": [
    "def multiply_by_(n):\n",
    "    def inner(x):\n",
    "        return x*n\n",
    "    return inner\n",
    "\n",
    "by_2 = multiply_by_(2)\n",
    "by_3 = multiply_by_(3)\n",
    "print(f\"{by_2(5) = }\")\n",
    "print(f\"{by_3(5) = }\")"
   ]
  },
  {
   "cell_type": "markdown",
   "id": "ceadbf0a-3780-44b7-b2d7-1128287fc531",
   "metadata": {},
   "source": [
    "<br/>\n",
    "<br/>\n",
    "\n",
    "<div style=\"font-family: 'Candy Cane', cursive;  font-size: 42px; text-align: left; text-shadow: 2px 2px 5px #fff;\">\n",
    "✈️ Viel Spaß beim fliegen!\n",
    "</div>"
   ]
  },
  {
   "cell_type": "code",
   "execution_count": null,
   "id": "ea27fab5-8c63-4ff8-994a-2c5e610b3000",
   "metadata": {},
   "outputs": [],
   "source": [
    "from time import sleep\n",
    "from but_better import but_better\n",
    "\n",
    "mit_python = but_better(\"fkaldvt3EOw\")\n",
    "\n",
    "@mit_python\n",
    "def fliegen():\n",
    "    sleep(19)\n",
    "    print(\"🐍 Mit Python Fliegen ✈️\")\n",
    "\n",
    "fliegen()"
   ]
  },
  {
   "cell_type": "markdown",
   "id": "54a08f2e-88da-4c21-b92d-5ec9c573ff2b",
   "metadata": {},
   "source": [
    "<div style=\"font-family: 'Candy Cane', cursive; font-size: 42px; color: red; text-align: center; text-shadow: 2px 2px 5px #fff;\">\n",
    "    🎄 Eine Schöne Adventzeit 🎄\n",
    "</div>\n"
   ]
  },
  {
   "cell_type": "code",
   "execution_count": null,
   "id": "5c18bf89-3c0c-47b5-b3ba-b33d514bb1a6",
   "metadata": {},
   "outputs": [],
   "source": []
  }
 ],
 "metadata": {
  "kernelspec": {
   "display_name": "Python 3 (ipykernel)",
   "language": "python",
   "name": "python3"
  },
  "language_info": {
   "codemirror_mode": {
    "name": "ipython",
    "version": 3
   },
   "file_extension": ".py",
   "mimetype": "text/x-python",
   "name": "python",
   "nbconvert_exporter": "python",
   "pygments_lexer": "ipython3",
   "version": "3.11.4"
  }
 },
 "nbformat": 4,
 "nbformat_minor": 5
}
